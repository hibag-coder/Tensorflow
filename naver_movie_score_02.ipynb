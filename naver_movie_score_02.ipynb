{
 "cells": [
  {
   "cell_type": "code",
   "execution_count": 1,
   "metadata": {},
   "outputs": [],
   "source": [
    "from bs4 import BeautifulSoup\n",
    "from urllib.request import urlopen\n",
    "import pandas as pd\n",
    "import math"
   ]
  },
  {
   "cell_type": "code",
   "execution_count": 2,
   "metadata": {},
   "outputs": [],
   "source": [
    "movie_score_url_base = 'https://movie.naver.com'\n",
    "movie_score_url_sub = '/movie/bi/mi/pointWriteFormList.nhn?code=163788&type=after&isActualPointWriteExecute=false&isMileageSubscriptionAlready=false&isMileageSubscriptionReject=false&page='\n",
    "movie_score_url_sub_num = '1'"
   ]
  },
  {
   "cell_type": "code",
   "execution_count": 3,
   "metadata": {},
   "outputs": [],
   "source": [
    "movie_score_url = movie_score_url_base + movie_score_url_sub\n",
    "#print(movie_score_url)"
   ]
  },
  {
   "cell_type": "code",
   "execution_count": 4,
   "metadata": {},
   "outputs": [],
   "source": [
    "movie_score_html = urlopen(movie_score_url+ movie_score_url_sub_num)\n",
    "movie_score_soup = BeautifulSoup(movie_score_html, \"html.parser\")\n",
    "#print(movie_score_soup)"
   ]
  },
  {
   "cell_type": "code",
   "execution_count": 5,
   "metadata": {},
   "outputs": [],
   "source": [
    "# 전체 건수 구하기\n",
    "score_total = movie_score_soup.find(class_='score_total')\n",
    "#print(type(score_total))"
   ]
  },
  {
   "cell_type": "code",
   "execution_count": 6,
   "metadata": {},
   "outputs": [],
   "source": [
    "score_em_num = (score_total.find('em').getText()).replace(',', '').strip()\n",
    "#print('score_em_num = \\''+score_em_num+'\\'')"
   ]
  },
  {
   "cell_type": "code",
   "execution_count": 7,
   "metadata": {},
   "outputs": [],
   "source": [
    "# row 추출하기\n",
    "# body > div > div > div.score_result > ul > li:nth-child(1) >\n",
    "score_result_div = movie_score_soup.find(class_='score_result')\n",
    "#print(score_result_div)\n",
    "score_result_ul = score_result_div.find('ul')\n",
    "score_result_lis = score_result_ul.findAll('li');"
   ]
  },
  {
   "cell_type": "code",
   "execution_count": 8,
   "metadata": {},
   "outputs": [],
   "source": [
    "score_result = []\n",
    "score_date = []\n",
    "score_review = []\n",
    "good_score = []"
   ]
  },
  {
   "cell_type": "code",
   "execution_count": 9,
   "metadata": {},
   "outputs": [],
   "source": [
    "# roof 횟수 구하기\n",
    "score_count = math.ceil(int(score_em_num) / 10)"
   ]
  },
  {
   "cell_type": "code",
   "execution_count": 10,
   "metadata": {},
   "outputs": [],
   "source": [
    "# 전체 구하기, 1부터 시작해서 1 더해줌\n",
    "for i in range(1,score_count+1) :\n",
    "#for i in range(1,20) :\n",
    "\n",
    "    #print(movie_score_url + str(i))\n",
    "    movie_score_html_page = urlopen(movie_score_url + str(i))\n",
    "    movie_score_soup_page = BeautifulSoup(movie_score_html_page, \"html.parser\")\n",
    "\n",
    "    score_result_div = movie_score_soup_page.find(class_='score_result')\n",
    "    # print(score_result_div)\n",
    "    score_result_ul = score_result_div.find('ul')\n",
    "    score_result_lis = score_result_ul.findAll('li');\n",
    "\n",
    "    for score_result_li in score_result_lis:\n",
    "        # 평점\n",
    "        # body > div > div > div.score_result > ul > li:nth-child(1) > div.star_score > em\n",
    "        star_score_div = score_result_li.find(class_='star_score')\n",
    "        score_result.append(star_score_div.find('em').getText())\n",
    "\n",
    "        # 날짜\n",
    "        # body > div > div > div.score_result > ul > li:nth-child(1) > div.score_reple > dl > dt > em:nth-child(2)\n",
    "        score_reple_div = score_result_li.find(class_='score_reple')\n",
    "        score_date.append(score_reple_div.findAll('em')[1].getText())\n",
    "        \n",
    "        # 리뷰\n",
    "        score_reple_span = score_reple_div.findAll('span')\n",
    "        #print(len(score_reple_span))\n",
    "        #print(type(score_review))\n",
    "        if(len(score_reple_span) > 2) :\n",
    "            #score_reple_span[1].getText().strip()\n",
    "            score_review.append(score_reple_span[1].getText().strip()) \n",
    "        else :\n",
    "            #print(score_reple_span[0].getText().strip())\n",
    "            score_review.append(score_reple_span[0].getText().strip()) \n",
    "        \n",
    "        #score_review = score_reple_span.getText()\n",
    "        #print(score_review)\n",
    "        \n",
    "        # 공감수\n",
    "        # body > div > div > div.score_result > ul > li: nth - child(1) > div.btn_area > a._sympathyButton\n",
    "        btn_area_div = score_result_li.find(class_='btn_area')\n",
    "        btn_area_a = btn_area_div.find('a')\n",
    "        good_score.append(btn_area_a.find('strong').getText())\n",
    "\n",
    "#print(score_result)\n",
    "#print(score_date)\n",
    "#print(score_review)\n",
    "#print(good_score)"
   ]
  },
  {
   "cell_type": "code",
   "execution_count": null,
   "metadata": {},
   "outputs": [],
   "source": [
    "movie_data = {'score':score_result, 'review':score_review, 'date':score_date, 'good':good_score}\n",
    "movie_df = pd.DataFrame(movie_data)\n",
    "#print(movie_df.head())"
   ]
  },
  {
   "cell_type": "code",
   "execution_count": null,
   "metadata": {},
   "outputs": [],
   "source": [
    "# 컬럼 순서 변경\n",
    "movie_df = pd.DataFrame(movie_data, columns=['score','review','date','good'])\n",
    "\n",
    "#movie_df.to_csv('01_TextMining/data/naver_movie_score_02.csv', sep=',', encoding='UTF-8')\n",
    "movie_df.to_excel('01_TextMining/data/naver_movie_score_02.xlsx', encoding='UTF-8')"
   ]
  },
  {
   "cell_type": "code",
   "execution_count": null,
   "metadata": {},
   "outputs": [],
   "source": []
  }
 ],
 "metadata": {
  "kernelspec": {
   "display_name": "Python 3",
   "language": "python",
   "name": "python3"
  },
  "language_info": {
   "codemirror_mode": {
    "name": "ipython",
    "version": 3
   },
   "file_extension": ".py",
   "mimetype": "text/x-python",
   "name": "python",
   "nbconvert_exporter": "python",
   "pygments_lexer": "ipython3",
   "version": "3.7.3"
  }
 },
 "nbformat": 4,
 "nbformat_minor": 2
}
